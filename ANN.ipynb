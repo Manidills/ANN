{
  "nbformat": 4,
  "nbformat_minor": 0,
  "metadata": {
    "colab": {
      "name": "ANN",
      "provenance": [],
      "collapsed_sections": []
    },
    "kernelspec": {
      "name": "python3",
      "display_name": "Python 3"
    },
    "accelerator": "TPU"
  },
  "cells": [
    {
      "cell_type": "code",
      "metadata": {
        "id": "1k0aKpBtLvR9",
        "colab_type": "code",
        "colab": {}
      },
      "source": [
        "import numpy as np\n",
        "import matplotlib.pyplot as pdalt\n",
        "import pandas as pd"
      ],
      "execution_count": 0,
      "outputs": []
    },
    {
      "cell_type": "code",
      "metadata": {
        "id": "RAZsOe4kLz2I",
        "colab_type": "code",
        "colab": {}
      },
      "source": [
        "dataset=pd.read_csv('/content/Complete-Deep-Learning/ANN/Churn_Modelling.csv')"
      ],
      "execution_count": 0,
      "outputs": []
    },
    {
      "cell_type": "code",
      "metadata": {
        "id": "rTDnhHFKL8IK",
        "colab_type": "code",
        "colab": {}
      },
      "source": [
        "\n",
        "X = dataset.iloc[:, 3:13]\n",
        "y = dataset.iloc[:, 13]"
      ],
      "execution_count": 0,
      "outputs": []
    },
    {
      "cell_type": "code",
      "metadata": {
        "id": "iKq9bmFoMBOh",
        "colab_type": "code",
        "colab": {}
      },
      "source": [
        "geography=pd.get_dummies(X[\"Geography\"],drop_first=True)\n",
        "gender=pd.get_dummies(X['Gender'],drop_first=True)"
      ],
      "execution_count": 0,
      "outputs": []
    },
    {
      "cell_type": "code",
      "metadata": {
        "id": "G_KppNbxMHtc",
        "colab_type": "code",
        "colab": {}
      },
      "source": [
        "X=pd.concat([X,geography,gender],axis=1)"
      ],
      "execution_count": 0,
      "outputs": []
    },
    {
      "cell_type": "code",
      "metadata": {
        "id": "EcAiPd4oMK2I",
        "colab_type": "code",
        "colab": {}
      },
      "source": [
        "X=X.drop(['Geography','Gender'],axis=1)\n"
      ],
      "execution_count": 0,
      "outputs": []
    },
    {
      "cell_type": "code",
      "metadata": {
        "id": "JdHdcmhKMNsO",
        "colab_type": "code",
        "colab": {}
      },
      "source": [
        "from sklearn.model_selection import train_test_split\n",
        "X_train, X_test, y_train, y_test = train_test_split(X, y, test_size = 0.2, random_state = 0)\n"
      ],
      "execution_count": 0,
      "outputs": []
    },
    {
      "cell_type": "code",
      "metadata": {
        "id": "ZjA4r0JAMQXI",
        "colab_type": "code",
        "colab": {}
      },
      "source": [
        "from sklearn.preprocessing import StandardScaler\n",
        "sc = StandardScaler()\n",
        "X_train = sc.fit_transform(X_train)\n",
        "X_test = sc.transform(X_test)\n"
      ],
      "execution_count": 0,
      "outputs": []
    },
    {
      "cell_type": "code",
      "metadata": {
        "id": "jAKBqP3hMTBV",
        "colab_type": "code",
        "colab": {}
      },
      "source": [
        "\n",
        "from keras.models import Sequential\n",
        "from keras.layers import Dense\n",
        "from keras.layers import LeakyReLU,PReLU,ELU\n",
        "from keras.layers import Dropout\n"
      ],
      "execution_count": 0,
      "outputs": []
    },
    {
      "cell_type": "code",
      "metadata": {
        "id": "W03omegXMWXc",
        "colab_type": "code",
        "colab": {
          "base_uri": "https://localhost:8080/",
          "height": 141
        },
        "outputId": "c7bbccfa-5164-4878-f0f0-7752879ecffb"
      },
      "source": [
        "classifier = Sequential()\n",
        "\n",
        "# Adding the input layer and the first hidden layer\n",
        "classifier.add(Dense(output_dim = 6, init = 'he_uniform',activation='relu',input_dim = 11))\n",
        "\n",
        "# Adding the second hidden layer\n",
        "classifier.add(Dense(output_dim = 6, init = 'he_uniform',activation='relu'))\n",
        "# Adding the output layer\n",
        "classifier.add(Dense(output_dim = 1, init = 'glorot_uniform', activation = 'sigmoid'))\n",
        "\n",
        "# Compiling the ANN\n",
        "classifier.compile(optimizer = 'Adamax', loss = 'binary_crossentropy', metrics = ['accuracy'])"
      ],
      "execution_count": 111,
      "outputs": [
        {
          "output_type": "stream",
          "text": [
            "/usr/local/lib/python3.6/dist-packages/ipykernel_launcher.py:4: UserWarning: Update your `Dense` call to the Keras 2 API: `Dense(activation=\"relu\", input_dim=11, units=6, kernel_initializer=\"he_uniform\")`\n",
            "  after removing the cwd from sys.path.\n",
            "/usr/local/lib/python3.6/dist-packages/ipykernel_launcher.py:7: UserWarning: Update your `Dense` call to the Keras 2 API: `Dense(activation=\"relu\", units=6, kernel_initializer=\"he_uniform\")`\n",
            "  import sys\n",
            "/usr/local/lib/python3.6/dist-packages/ipykernel_launcher.py:9: UserWarning: Update your `Dense` call to the Keras 2 API: `Dense(activation=\"sigmoid\", units=1, kernel_initializer=\"glorot_uniform\")`\n",
            "  if __name__ == '__main__':\n"
          ],
          "name": "stderr"
        }
      ]
    },
    {
      "cell_type": "code",
      "metadata": {
        "id": "hFz9IG8BMa9_",
        "colab_type": "code",
        "colab": {
          "base_uri": "https://localhost:8080/",
          "height": 1000
        },
        "outputId": "2f8ea064-5880-42cc-c60a-d6df05bba175"
      },
      "source": [
        "model_history=classifier.fit(X_train, y_train,validation_split=0.33, batch_size = 10, nb_epoch = 100)"
      ],
      "execution_count": 112,
      "outputs": [
        {
          "output_type": "stream",
          "text": [
            "/usr/local/lib/python3.6/dist-packages/ipykernel_launcher.py:1: UserWarning: The `nb_epoch` argument in `fit` has been renamed `epochs`.\n",
            "  \"\"\"Entry point for launching an IPython kernel.\n"
          ],
          "name": "stderr"
        },
        {
          "output_type": "stream",
          "text": [
            "Train on 5359 samples, validate on 2641 samples\n",
            "Epoch 1/100\n",
            "5359/5359 [==============================] - 1s 265us/step - loss: 0.5973 - acc: 0.7358 - val_loss: 0.4914 - val_acc: 0.7963\n",
            "Epoch 2/100\n",
            "5359/5359 [==============================] - 1s 121us/step - loss: 0.4699 - acc: 0.7962 - val_loss: 0.4592 - val_acc: 0.7978\n",
            "Epoch 3/100\n",
            "5359/5359 [==============================] - 1s 123us/step - loss: 0.4505 - acc: 0.7996 - val_loss: 0.4473 - val_acc: 0.8023\n",
            "Epoch 4/100\n",
            "5359/5359 [==============================] - 1s 120us/step - loss: 0.4412 - acc: 0.8026 - val_loss: 0.4403 - val_acc: 0.8023\n",
            "Epoch 5/100\n",
            "5359/5359 [==============================] - 1s 121us/step - loss: 0.4342 - acc: 0.8076 - val_loss: 0.4356 - val_acc: 0.8073\n",
            "Epoch 6/100\n",
            "5359/5359 [==============================] - 1s 121us/step - loss: 0.4283 - acc: 0.8141 - val_loss: 0.4312 - val_acc: 0.8111\n",
            "Epoch 7/100\n",
            "5359/5359 [==============================] - 1s 122us/step - loss: 0.4230 - acc: 0.8166 - val_loss: 0.4268 - val_acc: 0.8129\n",
            "Epoch 8/100\n",
            "5359/5359 [==============================] - 1s 128us/step - loss: 0.4176 - acc: 0.8199 - val_loss: 0.4230 - val_acc: 0.8145\n",
            "Epoch 9/100\n",
            "5359/5359 [==============================] - 1s 124us/step - loss: 0.4126 - acc: 0.8250 - val_loss: 0.4187 - val_acc: 0.8175\n",
            "Epoch 10/100\n",
            "5359/5359 [==============================] - 1s 132us/step - loss: 0.4074 - acc: 0.8283 - val_loss: 0.4151 - val_acc: 0.8213\n",
            "Epoch 11/100\n",
            "5359/5359 [==============================] - 1s 123us/step - loss: 0.4020 - acc: 0.8306 - val_loss: 0.4111 - val_acc: 0.8243\n",
            "Epoch 12/100\n",
            "5359/5359 [==============================] - 1s 125us/step - loss: 0.3970 - acc: 0.8352 - val_loss: 0.4064 - val_acc: 0.8236\n",
            "Epoch 13/100\n",
            "5359/5359 [==============================] - 1s 133us/step - loss: 0.3919 - acc: 0.8373 - val_loss: 0.4019 - val_acc: 0.8292\n",
            "Epoch 14/100\n",
            "5359/5359 [==============================] - 1s 129us/step - loss: 0.3870 - acc: 0.8399 - val_loss: 0.3977 - val_acc: 0.8307\n",
            "Epoch 15/100\n",
            "5359/5359 [==============================] - 1s 124us/step - loss: 0.3821 - acc: 0.8429 - val_loss: 0.3936 - val_acc: 0.8338\n",
            "Epoch 16/100\n",
            "5359/5359 [==============================] - 1s 133us/step - loss: 0.3769 - acc: 0.8440 - val_loss: 0.3898 - val_acc: 0.8326\n",
            "Epoch 17/100\n",
            "5359/5359 [==============================] - 1s 132us/step - loss: 0.3725 - acc: 0.8489 - val_loss: 0.3859 - val_acc: 0.8353\n",
            "Epoch 18/100\n",
            "5359/5359 [==============================] - 1s 145us/step - loss: 0.3680 - acc: 0.8479 - val_loss: 0.3827 - val_acc: 0.8387\n",
            "Epoch 19/100\n",
            "5359/5359 [==============================] - 1s 130us/step - loss: 0.3649 - acc: 0.8487 - val_loss: 0.3795 - val_acc: 0.8342\n",
            "Epoch 20/100\n",
            "5359/5359 [==============================] - 1s 127us/step - loss: 0.3614 - acc: 0.8524 - val_loss: 0.3775 - val_acc: 0.8360\n",
            "Epoch 21/100\n",
            "5359/5359 [==============================] - 1s 128us/step - loss: 0.3593 - acc: 0.8509 - val_loss: 0.3755 - val_acc: 0.8372\n",
            "Epoch 22/100\n",
            "5359/5359 [==============================] - 1s 126us/step - loss: 0.3570 - acc: 0.8517 - val_loss: 0.3741 - val_acc: 0.8368\n",
            "Epoch 23/100\n",
            "5359/5359 [==============================] - 1s 127us/step - loss: 0.3552 - acc: 0.8526 - val_loss: 0.3724 - val_acc: 0.8391\n",
            "Epoch 24/100\n",
            "5359/5359 [==============================] - 1s 126us/step - loss: 0.3533 - acc: 0.8531 - val_loss: 0.3710 - val_acc: 0.8410\n",
            "Epoch 25/100\n",
            "5359/5359 [==============================] - 1s 131us/step - loss: 0.3519 - acc: 0.8571 - val_loss: 0.3699 - val_acc: 0.8402\n",
            "Epoch 26/100\n",
            "5359/5359 [==============================] - 1s 131us/step - loss: 0.3504 - acc: 0.8556 - val_loss: 0.3693 - val_acc: 0.8429\n",
            "Epoch 27/100\n",
            "5359/5359 [==============================] - 1s 131us/step - loss: 0.3490 - acc: 0.8567 - val_loss: 0.3684 - val_acc: 0.8383\n",
            "Epoch 28/100\n",
            "5359/5359 [==============================] - 1s 129us/step - loss: 0.3479 - acc: 0.8567 - val_loss: 0.3666 - val_acc: 0.8421\n",
            "Epoch 29/100\n",
            "5359/5359 [==============================] - 1s 134us/step - loss: 0.3469 - acc: 0.8569 - val_loss: 0.3658 - val_acc: 0.8421\n",
            "Epoch 30/100\n",
            "5359/5359 [==============================] - 1s 127us/step - loss: 0.3461 - acc: 0.8578 - val_loss: 0.3659 - val_acc: 0.8455\n",
            "Epoch 31/100\n",
            "5359/5359 [==============================] - 1s 127us/step - loss: 0.3447 - acc: 0.8593 - val_loss: 0.3652 - val_acc: 0.8444\n",
            "Epoch 32/100\n",
            "5359/5359 [==============================] - 1s 141us/step - loss: 0.3440 - acc: 0.8589 - val_loss: 0.3647 - val_acc: 0.8436\n",
            "Epoch 33/100\n",
            "5359/5359 [==============================] - 1s 131us/step - loss: 0.3430 - acc: 0.8617 - val_loss: 0.3646 - val_acc: 0.8440\n",
            "Epoch 34/100\n",
            "5359/5359 [==============================] - 1s 137us/step - loss: 0.3422 - acc: 0.8599 - val_loss: 0.3637 - val_acc: 0.8470\n",
            "Epoch 35/100\n",
            "5359/5359 [==============================] - 1s 127us/step - loss: 0.3416 - acc: 0.8600 - val_loss: 0.3633 - val_acc: 0.8489\n",
            "Epoch 36/100\n",
            "5359/5359 [==============================] - 1s 129us/step - loss: 0.3413 - acc: 0.8602 - val_loss: 0.3631 - val_acc: 0.8466\n",
            "Epoch 37/100\n",
            "5359/5359 [==============================] - 1s 129us/step - loss: 0.3405 - acc: 0.8604 - val_loss: 0.3631 - val_acc: 0.8448\n",
            "Epoch 38/100\n",
            "5359/5359 [==============================] - 1s 130us/step - loss: 0.3396 - acc: 0.8604 - val_loss: 0.3623 - val_acc: 0.8493\n",
            "Epoch 39/100\n",
            "5359/5359 [==============================] - 1s 126us/step - loss: 0.3394 - acc: 0.8627 - val_loss: 0.3618 - val_acc: 0.8493\n",
            "Epoch 40/100\n",
            "5359/5359 [==============================] - 1s 129us/step - loss: 0.3391 - acc: 0.8599 - val_loss: 0.3618 - val_acc: 0.8478\n",
            "Epoch 41/100\n",
            "5359/5359 [==============================] - 1s 126us/step - loss: 0.3385 - acc: 0.8619 - val_loss: 0.3615 - val_acc: 0.8497\n",
            "Epoch 42/100\n",
            "5359/5359 [==============================] - 1s 127us/step - loss: 0.3385 - acc: 0.8619 - val_loss: 0.3610 - val_acc: 0.8485\n",
            "Epoch 43/100\n",
            "5359/5359 [==============================] - 1s 126us/step - loss: 0.3377 - acc: 0.8612 - val_loss: 0.3610 - val_acc: 0.8508\n",
            "Epoch 44/100\n",
            "5359/5359 [==============================] - 1s 132us/step - loss: 0.3381 - acc: 0.8608 - val_loss: 0.3603 - val_acc: 0.8501\n",
            "Epoch 45/100\n",
            "5359/5359 [==============================] - 1s 132us/step - loss: 0.3376 - acc: 0.8632 - val_loss: 0.3604 - val_acc: 0.8493\n",
            "Epoch 46/100\n",
            "5359/5359 [==============================] - 1s 138us/step - loss: 0.3372 - acc: 0.8608 - val_loss: 0.3603 - val_acc: 0.8501\n",
            "Epoch 47/100\n",
            "5359/5359 [==============================] - 1s 142us/step - loss: 0.3369 - acc: 0.8619 - val_loss: 0.3599 - val_acc: 0.8504\n",
            "Epoch 48/100\n",
            "5359/5359 [==============================] - 1s 129us/step - loss: 0.3370 - acc: 0.8600 - val_loss: 0.3595 - val_acc: 0.8516\n",
            "Epoch 49/100\n",
            "5359/5359 [==============================] - 1s 130us/step - loss: 0.3364 - acc: 0.8621 - val_loss: 0.3597 - val_acc: 0.8516\n",
            "Epoch 50/100\n",
            "5359/5359 [==============================] - 1s 127us/step - loss: 0.3367 - acc: 0.8608 - val_loss: 0.3596 - val_acc: 0.8520\n",
            "Epoch 51/100\n",
            "5359/5359 [==============================] - 1s 129us/step - loss: 0.3362 - acc: 0.8621 - val_loss: 0.3596 - val_acc: 0.8523\n",
            "Epoch 52/100\n",
            "5359/5359 [==============================] - 1s 131us/step - loss: 0.3359 - acc: 0.8632 - val_loss: 0.3592 - val_acc: 0.8527\n",
            "Epoch 53/100\n",
            "5359/5359 [==============================] - 1s 129us/step - loss: 0.3356 - acc: 0.8610 - val_loss: 0.3592 - val_acc: 0.8535\n",
            "Epoch 54/100\n",
            "5359/5359 [==============================] - 1s 128us/step - loss: 0.3351 - acc: 0.8643 - val_loss: 0.3602 - val_acc: 0.8520\n",
            "Epoch 55/100\n",
            "5359/5359 [==============================] - 1s 128us/step - loss: 0.3356 - acc: 0.8621 - val_loss: 0.3590 - val_acc: 0.8527\n",
            "Epoch 56/100\n",
            "5359/5359 [==============================] - 1s 130us/step - loss: 0.3352 - acc: 0.8610 - val_loss: 0.3590 - val_acc: 0.8512\n",
            "Epoch 57/100\n",
            "5359/5359 [==============================] - 1s 129us/step - loss: 0.3351 - acc: 0.8608 - val_loss: 0.3593 - val_acc: 0.8535\n",
            "Epoch 58/100\n",
            "5359/5359 [==============================] - 1s 131us/step - loss: 0.3350 - acc: 0.8627 - val_loss: 0.3595 - val_acc: 0.8538\n",
            "Epoch 59/100\n",
            "5359/5359 [==============================] - 1s 135us/step - loss: 0.3346 - acc: 0.8630 - val_loss: 0.3595 - val_acc: 0.8538\n",
            "Epoch 60/100\n",
            "5359/5359 [==============================] - 1s 128us/step - loss: 0.3347 - acc: 0.8614 - val_loss: 0.3591 - val_acc: 0.8531\n",
            "Epoch 61/100\n",
            "5359/5359 [==============================] - 1s 129us/step - loss: 0.3345 - acc: 0.8617 - val_loss: 0.3589 - val_acc: 0.8542\n",
            "Epoch 62/100\n",
            "5359/5359 [==============================] - 1s 135us/step - loss: 0.3342 - acc: 0.8623 - val_loss: 0.3591 - val_acc: 0.8546\n",
            "Epoch 63/100\n",
            "5359/5359 [==============================] - 1s 130us/step - loss: 0.3340 - acc: 0.8625 - val_loss: 0.3589 - val_acc: 0.8550\n",
            "Epoch 64/100\n",
            "5359/5359 [==============================] - 1s 139us/step - loss: 0.3339 - acc: 0.8638 - val_loss: 0.3589 - val_acc: 0.8557\n",
            "Epoch 65/100\n",
            "5359/5359 [==============================] - 1s 126us/step - loss: 0.3338 - acc: 0.8625 - val_loss: 0.3593 - val_acc: 0.8546\n",
            "Epoch 66/100\n",
            "5359/5359 [==============================] - 1s 133us/step - loss: 0.3337 - acc: 0.8642 - val_loss: 0.3589 - val_acc: 0.8550\n",
            "Epoch 67/100\n",
            "5359/5359 [==============================] - 1s 131us/step - loss: 0.3336 - acc: 0.8628 - val_loss: 0.3599 - val_acc: 0.8523\n",
            "Epoch 68/100\n",
            "5359/5359 [==============================] - 1s 134us/step - loss: 0.3332 - acc: 0.8638 - val_loss: 0.3592 - val_acc: 0.8557\n",
            "Epoch 69/100\n",
            "5359/5359 [==============================] - 1s 134us/step - loss: 0.3336 - acc: 0.8630 - val_loss: 0.3587 - val_acc: 0.8565\n",
            "Epoch 70/100\n",
            "5359/5359 [==============================] - 1s 130us/step - loss: 0.3335 - acc: 0.8636 - val_loss: 0.3594 - val_acc: 0.8550\n",
            "Epoch 71/100\n",
            "5359/5359 [==============================] - 1s 143us/step - loss: 0.3332 - acc: 0.8627 - val_loss: 0.3592 - val_acc: 0.8550\n",
            "Epoch 72/100\n",
            "5359/5359 [==============================] - 1s 143us/step - loss: 0.3330 - acc: 0.8636 - val_loss: 0.3590 - val_acc: 0.8573\n",
            "Epoch 73/100\n",
            "5359/5359 [==============================] - 1s 129us/step - loss: 0.3328 - acc: 0.8632 - val_loss: 0.3593 - val_acc: 0.8565\n",
            "Epoch 74/100\n",
            "5359/5359 [==============================] - 1s 138us/step - loss: 0.3328 - acc: 0.8630 - val_loss: 0.3594 - val_acc: 0.8557\n",
            "Epoch 75/100\n",
            "5359/5359 [==============================] - 1s 129us/step - loss: 0.3328 - acc: 0.8619 - val_loss: 0.3594 - val_acc: 0.8550\n",
            "Epoch 76/100\n",
            "5359/5359 [==============================] - 1s 133us/step - loss: 0.3324 - acc: 0.8651 - val_loss: 0.3603 - val_acc: 0.8531\n",
            "Epoch 77/100\n",
            "5359/5359 [==============================] - 1s 137us/step - loss: 0.3326 - acc: 0.8623 - val_loss: 0.3587 - val_acc: 0.8557\n",
            "Epoch 78/100\n",
            "5359/5359 [==============================] - 1s 131us/step - loss: 0.3326 - acc: 0.8647 - val_loss: 0.3590 - val_acc: 0.8565\n",
            "Epoch 79/100\n",
            "5359/5359 [==============================] - 1s 133us/step - loss: 0.3322 - acc: 0.8642 - val_loss: 0.3594 - val_acc: 0.8569\n",
            "Epoch 80/100\n",
            "5359/5359 [==============================] - 1s 127us/step - loss: 0.3323 - acc: 0.8628 - val_loss: 0.3587 - val_acc: 0.8569\n",
            "Epoch 81/100\n",
            "5359/5359 [==============================] - 1s 132us/step - loss: 0.3325 - acc: 0.8627 - val_loss: 0.3587 - val_acc: 0.8561\n",
            "Epoch 82/100\n",
            "5359/5359 [==============================] - 1s 136us/step - loss: 0.3318 - acc: 0.8643 - val_loss: 0.3590 - val_acc: 0.8569\n",
            "Epoch 83/100\n",
            "5359/5359 [==============================] - 1s 130us/step - loss: 0.3320 - acc: 0.8627 - val_loss: 0.3586 - val_acc: 0.8576\n",
            "Epoch 84/100\n",
            "5359/5359 [==============================] - 1s 127us/step - loss: 0.3321 - acc: 0.8628 - val_loss: 0.3594 - val_acc: 0.8557\n",
            "Epoch 85/100\n",
            "5359/5359 [==============================] - 1s 135us/step - loss: 0.3319 - acc: 0.8645 - val_loss: 0.3589 - val_acc: 0.8565\n",
            "Epoch 86/100\n",
            "5359/5359 [==============================] - 1s 132us/step - loss: 0.3316 - acc: 0.8623 - val_loss: 0.3593 - val_acc: 0.8569\n",
            "Epoch 87/100\n",
            "5359/5359 [==============================] - 1s 136us/step - loss: 0.3317 - acc: 0.8655 - val_loss: 0.3584 - val_acc: 0.8576\n",
            "Epoch 88/100\n",
            "5359/5359 [==============================] - 1s 127us/step - loss: 0.3316 - acc: 0.8660 - val_loss: 0.3591 - val_acc: 0.8584\n",
            "Epoch 89/100\n",
            "5359/5359 [==============================] - 1s 128us/step - loss: 0.3316 - acc: 0.8628 - val_loss: 0.3586 - val_acc: 0.8584\n",
            "Epoch 90/100\n",
            "5359/5359 [==============================] - 1s 133us/step - loss: 0.3315 - acc: 0.8638 - val_loss: 0.3584 - val_acc: 0.8569\n",
            "Epoch 91/100\n",
            "5359/5359 [==============================] - 1s 129us/step - loss: 0.3317 - acc: 0.8640 - val_loss: 0.3589 - val_acc: 0.8565\n",
            "Epoch 92/100\n",
            "5359/5359 [==============================] - 1s 137us/step - loss: 0.3315 - acc: 0.8627 - val_loss: 0.3592 - val_acc: 0.8565\n",
            "Epoch 93/100\n",
            "5359/5359 [==============================] - 1s 127us/step - loss: 0.3312 - acc: 0.8632 - val_loss: 0.3597 - val_acc: 0.8565\n",
            "Epoch 94/100\n",
            "5359/5359 [==============================] - 1s 130us/step - loss: 0.3314 - acc: 0.8625 - val_loss: 0.3590 - val_acc: 0.8588\n",
            "Epoch 95/100\n",
            "5359/5359 [==============================] - 1s 135us/step - loss: 0.3313 - acc: 0.8636 - val_loss: 0.3589 - val_acc: 0.8588\n",
            "Epoch 96/100\n",
            "5359/5359 [==============================] - 1s 127us/step - loss: 0.3313 - acc: 0.8636 - val_loss: 0.3590 - val_acc: 0.8565\n",
            "Epoch 97/100\n",
            "5359/5359 [==============================] - 1s 129us/step - loss: 0.3311 - acc: 0.8630 - val_loss: 0.3593 - val_acc: 0.8565\n",
            "Epoch 98/100\n",
            "5359/5359 [==============================] - 1s 128us/step - loss: 0.3312 - acc: 0.8640 - val_loss: 0.3594 - val_acc: 0.8557\n",
            "Epoch 99/100\n",
            "5359/5359 [==============================] - 1s 128us/step - loss: 0.3307 - acc: 0.8645 - val_loss: 0.3600 - val_acc: 0.8565\n",
            "Epoch 100/100\n",
            "5359/5359 [==============================] - 1s 136us/step - loss: 0.3310 - acc: 0.8627 - val_loss: 0.3600 - val_acc: 0.8546\n"
          ],
          "name": "stdout"
        }
      ]
    },
    {
      "cell_type": "code",
      "metadata": {
        "id": "16d_R21lMfRY",
        "colab_type": "code",
        "colab": {
          "base_uri": "https://localhost:8080/",
          "height": 34
        },
        "outputId": "dd704f68-bc8c-4bc2-e2f5-6a81fddfe8cf"
      },
      "source": [
        "X_train.shape"
      ],
      "execution_count": 113,
      "outputs": [
        {
          "output_type": "execute_result",
          "data": {
            "text/plain": [
              "(8000, 11)"
            ]
          },
          "metadata": {
            "tags": []
          },
          "execution_count": 113
        }
      ]
    },
    {
      "cell_type": "code",
      "metadata": {
        "id": "C8XKbWf1MzUB",
        "colab_type": "code",
        "colab": {
          "base_uri": "https://localhost:8080/",
          "height": 34
        },
        "outputId": "e25c4164-99e4-4b81-a1b4-37d356ca3190"
      },
      "source": [
        "y_train.shape"
      ],
      "execution_count": 114,
      "outputs": [
        {
          "output_type": "execute_result",
          "data": {
            "text/plain": [
              "(8000,)"
            ]
          },
          "metadata": {
            "tags": []
          },
          "execution_count": 114
        }
      ]
    },
    {
      "cell_type": "code",
      "metadata": {
        "id": "U31T72NvM2Me",
        "colab_type": "code",
        "colab": {
          "base_uri": "https://localhost:8080/",
          "height": 312
        },
        "outputId": "10d8c29c-3ca8-4779-80ce-06a0343224ea"
      },
      "source": [
        "print(model_history.history.keys())\n",
        "# summarize history for accuracy\n",
        "plt.plot(model_history.history['acc'])\n",
        "plt.plot(model_history.history['val_acc'])\n",
        "plt.title('model accuracy')\n",
        "plt.ylabel('accuracy')\n",
        "plt.xlabel('epoch')\n",
        "plt.legend(['train', 'test'], loc='upper left')\n",
        "plt.show()\n"
      ],
      "execution_count": 115,
      "outputs": [
        {
          "output_type": "stream",
          "text": [
            "dict_keys(['val_loss', 'val_acc', 'loss', 'acc'])\n"
          ],
          "name": "stdout"
        },
        {
          "output_type": "display_data",
          "data": {
            "image/png": "[encoded data removed]",
            "text/plain": [
              "<Figure size 432x288 with 1 Axes>"
            ]
          },
          "metadata": {
            "tags": []
          }
        }
      ]
    },
    {
      "cell_type": "code",
      "metadata": {
        "id": "oU5_h963M_hS",
        "colab_type": "code",
        "colab": {}
      },
      "source": [
        "y_pred = classifier.predict(X_test)\n",
        "y_pred = (y_pred > 0.5)\n",
        "\n",
        "# Making the Confusion Matrix\n",
        "from sklearn.metrics import confusion_matrix\n",
        "cm = confusion_matrix(y_test, y_pred)\n",
        "\n",
        "# Calculate the Accuracy\n",
        "from sklearn.metrics import accuracy_score\n",
        "score=accuracy_score(y_pred,y_test)\n",
        "\n",
        "\n",
        "\n"
      ],
      "execution_count": 0,
      "outputs": []
    },
    {
      "cell_type": "code",
      "metadata": {
        "id": "2hR1HErSNDj4",
        "colab_type": "code",
        "colab": {
          "base_uri": "https://localhost:8080/",
          "height": 69
        },
        "outputId": "87beaf43-d1ea-4bf7-a8ef-d442827dec27"
      },
      "source": [
        "print(cm)\n",
        "print(score)"
      ],
      "execution_count": 117,
      "outputs": [
        {
          "output_type": "stream",
          "text": [
            "[[1529   66]\n",
            " [ 209  196]]\n",
            "0.8625\n"
          ],
          "name": "stdout"
        }
      ]
    },
    {
      "cell_type": "code",
      "metadata": {
        "id": "1WNBCyOuNKvX",
        "colab_type": "code",
        "colab": {}
      },
      "source": [
        ""
      ],
      "execution_count": 0,
      "outputs": []
    }
  ]
}